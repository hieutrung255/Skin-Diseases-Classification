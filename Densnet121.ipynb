{
  "cells": [
    {
      "cell_type": "code",
      "execution_count": null,
      "metadata": {
        "colab": {
          "base_uri": "https://localhost:8080/",
          "height": 90,
          "resources": {
            "http://localhost:8080/nbextensions/google.colab/files.js": {
              "data": "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",
              "headers": [
                [
                  "content-type",
                  "application/javascript"
                ]
              ],
              "ok": true,
              "status": 200,
              "status_text": ""
            }
          }
        },
        "id": "VXUfqhh3OupK",
        "outputId": "4009009d-e2fe-4ad5-c2c2-44c91439897b"
      },
      "outputs": [
        {
          "output_type": "display_data",
          "data": {
            "text/plain": [
              "<IPython.core.display.HTML object>"
            ],
            "text/html": [
              "\n",
              "     <input type=\"file\" id=\"files-08b64c37-09f4-4ac6-88f6-5fddb294bf20\" name=\"files[]\" multiple disabled\n",
              "        style=\"border:none\" />\n",
              "     <output id=\"result-08b64c37-09f4-4ac6-88f6-5fddb294bf20\">\n",
              "      Upload widget is only available when the cell has been executed in the\n",
              "      current browser session. Please rerun this cell to enable.\n",
              "      </output>\n",
              "      <script src=\"/nbextensions/google.colab/files.js\"></script> "
            ]
          },
          "metadata": {}
        },
        {
          "output_type": "stream",
          "name": "stdout",
          "text": [
            "Saving kaggle.json to kaggle.json\n"
          ]
        },
        {
          "output_type": "execute_result",
          "data": {
            "text/plain": [
              "{'kaggle.json': b'{\"username\":\"hieutrungnguyen\",\"key\":\"25a684d95896d77470b17ee2267c475f\"}'}"
            ]
          },
          "metadata": {},
          "execution_count": 1
        }
      ],
      "source": [
        "from google.colab import files\n",
        "files.upload()\n"
      ]
    },
    {
      "cell_type": "code",
      "execution_count": null,
      "metadata": {
        "colab": {
          "base_uri": "https://localhost:8080/"
        },
        "id": "83TB6ieLYqYi",
        "outputId": "eb7aa394-c93f-4bf1-b9f3-68b25d39ada2"
      },
      "outputs": [
        {
          "output_type": "stream",
          "name": "stdout",
          "text": [
            "Mounted at /content/drive\n"
          ]
        }
      ],
      "source": [
        "from google.colab import drive\n",
        "drive.mount('/content/drive')"
      ]
    },
    {
      "cell_type": "code",
      "execution_count": null,
      "metadata": {
        "colab": {
          "base_uri": "https://localhost:8080/"
        },
        "id": "Lj5tm2oSY8Lt",
        "outputId": "ed8c35f6-4112-4104-b7c6-228349449bb7"
      },
      "outputs": [
        {
          "output_type": "stream",
          "name": "stdout",
          "text": [
            "Looking in indexes: https://pypi.org/simple, https://us-python.pkg.dev/colab-wheels/public/simple/\n",
            "Requirement already satisfied: kaggle in /usr/local/lib/python3.7/dist-packages (1.5.12)\n",
            "Requirement already satisfied: urllib3 in /usr/local/lib/python3.7/dist-packages (from kaggle) (1.24.3)\n",
            "Requirement already satisfied: certifi in /usr/local/lib/python3.7/dist-packages (from kaggle) (2022.6.15)\n",
            "Requirement already satisfied: python-dateutil in /usr/local/lib/python3.7/dist-packages (from kaggle) (2.8.2)\n",
            "Requirement already satisfied: python-slugify in /usr/local/lib/python3.7/dist-packages (from kaggle) (6.1.2)\n",
            "Requirement already satisfied: six>=1.10 in /usr/local/lib/python3.7/dist-packages (from kaggle) (1.15.0)\n",
            "Requirement already satisfied: requests in /usr/local/lib/python3.7/dist-packages (from kaggle) (2.23.0)\n",
            "Requirement already satisfied: tqdm in /usr/local/lib/python3.7/dist-packages (from kaggle) (4.64.0)\n",
            "Requirement already satisfied: text-unidecode>=1.3 in /usr/local/lib/python3.7/dist-packages (from python-slugify->kaggle) (1.3)\n",
            "Requirement already satisfied: idna<3,>=2.5 in /usr/local/lib/python3.7/dist-packages (from requests->kaggle) (2.10)\n",
            "Requirement already satisfied: chardet<4,>=3.0.2 in /usr/local/lib/python3.7/dist-packages (from requests->kaggle) (3.0.4)\n"
          ]
        }
      ],
      "source": [
        "!pip install kaggle\n",
        "\n",
        "\n"
      ]
    },
    {
      "cell_type": "code",
      "execution_count": null,
      "metadata": {
        "colab": {
          "base_uri": "https://localhost:8080/"
        },
        "id": "7u8QHvMTZQkH",
        "outputId": "b753a768-ecee-48f5-e87e-300f3aa4c3f0"
      },
      "outputs": [
        {
          "output_type": "stream",
          "name": "stdout",
          "text": [
            "Downloading dermnet.zip to /content\n",
            "100% 1.71G/1.72G [00:43<00:00, 55.8MB/s]\n",
            "100% 1.72G/1.72G [00:43<00:00, 42.4MB/s]\n"
          ]
        }
      ],
      "source": [
        "!cp kaggle.json ~/.kaggle/\n",
        "!chmod 600 ~/.kaggle/kaggle.json\n",
        "!kaggle datasets download shubhamgoel27/dermnet"
      ]
    },
    {
      "cell_type": "code",
      "execution_count": null,
      "metadata": {
        "id": "6upCOMIIZHIo"
      },
      "outputs": [],
      "source": [
        "import zipfile\n",
        "with zipfile.ZipFile('/content/dermnet.zip', 'r') as zip_ref:\n",
        "  zip_ref.extractall('/content/dermnet')"
      ]
    },
    {
      "cell_type": "markdown",
      "source": [
        "IMPORT CÁC THƯ VIỆN CẦN THIẾT"
      ],
      "metadata": {
        "id": "Z_clo8wSn9HB"
      }
    },
    {
      "cell_type": "code",
      "execution_count": null,
      "metadata": {
        "id": "PcmE-qIGZOOP"
      },
      "outputs": [],
      "source": [
        "import glob\n",
        "import os.path as osp\n",
        "import random\n",
        "import numpy as np\n",
        "from PIL import Image\n",
        "import os\n",
        "import shutil\n",
        "\n",
        "import torch\n",
        "import torch.nn as nn\n",
        "import torch.optim as optim\n",
        "import torch.utils.data as data\n",
        "import torchvision\n",
        "from torchvision import models, transforms\n",
        "from torch.utils.data import ConcatDataset, WeightedRandomSampler\n",
        "import torchvision.datasets as datasets\n",
        "\n",
        "from tqdm import tqdm\n",
        "\n",
        "from sklearn.model_selection import train_test_split, KFold, ShuffleSplit\n",
        "from sklearn.metrics import confusion_matrix\n",
        "from sklearn.metrics import classification_report\n",
        "\n",
        "import time\n",
        "import copy"
      ]
    },
    {
      "cell_type": "code",
      "execution_count": null,
      "metadata": {
        "id": "IzY4vinpbMVn"
      },
      "outputs": [],
      "source": [
        "torch.manual_seed(42)\n",
        "np.random.seed(42)\n",
        "random.seed(42)\n",
        "\n",
        "resize = (224, 224)\n",
        "mean = [0.485, 0.456, 0.406] \n",
        "std = [0.229, 0.224, 0.225]"
      ]
    },
    {
      "cell_type": "markdown",
      "source": [
        "TẠO CLASS TRANSFORM ĐỂ TIỀN XỬ LÝ DỮ LIỆU"
      ],
      "metadata": {
        "id": "iaWFPqZkoBBv"
      }
    },
    {
      "cell_type": "code",
      "execution_count": null,
      "metadata": {
        "id": "DWTeX-h4aQBY"
      },
      "outputs": [],
      "source": [
        "from torchvision.transforms.transforms import RandomVerticalFlip\n",
        "\n",
        "class ImageTransform():\n",
        "  def __init__(self, resize, mean, std):\n",
        "    self.data_transform = {\n",
        "        'augment': transforms.Compose([\n",
        "                                    transforms.Resize(resize),                         \n",
        "                                    transforms.RandomHorizontalFlip(0.5),\n",
        "                                    transforms.RandomVerticalFlip(0.5),\n",
        "                                    transforms.RandomRotation(20),\n",
        "                                    transforms.ColorJitter(brightness=1, contrast=0.1, hue=0.4),\n",
        "                                    transforms.ToTensor(),\n",
        "                                    transforms.Normalize(mean, std)\n",
        "        ]),\n",
        "\n",
        "        'val': transforms.Compose([transforms.Resize(resize),\n",
        "                                   transforms.CenterCrop(resize),                                \n",
        "                                   transforms.ToTensor(),\n",
        "                                   transforms.Normalize(mean, std)\n",
        "        ]),\n",
        "\n",
        "        'test': transforms.Compose([\n",
        "                                    transforms.Resize(resize),\n",
        "                                    transforms.ToTensor(),\n",
        "                                    transforms.Normalize(mean, std)\n",
        "        ]),\n",
        "\n",
        "        'original': transforms.Compose([\n",
        "                                      transforms.Resize(resize),\n",
        "                                      transforms.ToTensor(),\n",
        "                                      transforms.Normalize(mean, std)\n",
        "        ])\n",
        "\n",
        "    }\n",
        "\n",
        "  def __call__(self, image, phase=None):\n",
        "    #image = Image(file_list)\n",
        "    return self.data_transform[phase](image)        "
      ]
    },
    {
      "cell_type": "markdown",
      "source": [
        "HÀM NÀY DÙNG ĐỂ TẠO LIST ĐƯỜNG DẪN ẢNH TỪ FOLDER DATASET"
      ],
      "metadata": {
        "id": "0z3afSyDoE20"
      }
    },
    {
      "cell_type": "code",
      "execution_count": null,
      "metadata": {
        "id": "O2slpJl-ac7o"
      },
      "outputs": [],
      "source": [
        "def make_datapath_list(phase=None):\n",
        "  rootpath = '/content/dermnet/'\n",
        "  target_path = osp.join(rootpath + phase + '/**/*.jpg')\n",
        "  \n",
        "  path_list = list()\n",
        "\n",
        "  for path in glob.glob(target_path):\n",
        "    path_list.append(path)\n",
        "\n",
        "  return path_list"
      ]
    },
    {
      "cell_type": "markdown",
      "source": [
        "DISEASES DICTIONARY VÀ LIST"
      ],
      "metadata": {
        "id": "2uMAhjSRoMYC"
      }
    },
    {
      "cell_type": "code",
      "execution_count": null,
      "metadata": {
        "id": "uR2-cZmQaiVw"
      },
      "outputs": [],
      "source": [
        "disease_dict_1 = {\n",
        "    'Atopic Dermatitis Photos': 0,\n",
        "    'Eczema Photos': 1,\n",
        "    'Psoriasis pictures Lichen Planus and related diseases': 2\n",
        "}\n",
        "\n",
        "disease_list_1 = {'Atopic Dermatitis Photos', 'Eczema Photos', 'Psoriasis pictures Lichen Planus and related diseases'}\n",
        "\n",
        "disease_dict_2 = {\n",
        "    'Actinic Keratosis Basal Cell Carcinoma and other Malignant Lesions': 0,\n",
        "    'Nail Fungus and other Nail Disease': 1,\n",
        "    'Warts Molluscum and other Viral Infections': 2\n",
        "}\n",
        "\n",
        "disease_list_2 = {'Actinic Keratosis Basal Cell Carcinoma and other Malignant Lesions',\n",
        "    'Nail Fungus and other Nail Disease',\n",
        "    'Warts Molluscum and other Viral Infections'}"
      ]
    },
    {
      "cell_type": "markdown",
      "source": [
        "CLASS DATASET DÙNG ĐỂ TẠO DATASET"
      ],
      "metadata": {
        "id": "SW9GYpVooSr9"
      }
    },
    {
      "cell_type": "code",
      "execution_count": null,
      "metadata": {
        "id": "CzFP8L9Uanai"
      },
      "outputs": [],
      "source": [
        "class MyDataset(data.Dataset):\n",
        "  def __init__(self, file_list, disease_dict, transform=None, phase=None):\n",
        "    self.file_list = file_list\n",
        "    self.transform = transform\n",
        "    self.phase = phase\n",
        "    self.disease_dict = disease_dict\n",
        "    \n",
        "  def __len__(self):\n",
        "    return len(self.file_list)\n",
        "\n",
        "  def __getitem__(self, index):\n",
        "    image_path = self.file_list[index]\n",
        "    image = Image.open(image_path)\n",
        "\n",
        "    image_transformed = self.transform(image, self.phase)\n",
        "\n",
        "    name = image_path.split('/')[-2]\n",
        "    #labels = torch.tensor(int(self.disease_dict[name]))\n",
        "    labels = self.disease_dict[name]\n",
        "\n",
        "    return  image_transformed, labels"
      ]
    },
    {
      "cell_type": "markdown",
      "source": [
        "ĐÂY LÀ HÀM LỌC RA NHỮNG ĐƯỜNG DẪN ẢNH THUỘC VỀ 3 LOẠI BỆNH QUAN TÂM"
      ],
      "metadata": {
        "id": "_Dz-jXQ0oXPd"
      }
    },
    {
      "cell_type": "code",
      "execution_count": null,
      "metadata": {
        "id": "iHGLNU_7artU"
      },
      "outputs": [],
      "source": [
        "#lọc ra danh sách đường dẫn 3 loại bệnh quan tâm\n",
        "def image_class_filter(train_list, disease_list, phase=None):\n",
        "  new_train_list = list()\n",
        "  root_train = '/content/dermnet/' + phase + '/'\n",
        "  for disease in disease_list:\n",
        "    train_path = osp.join(root_train + disease)\n",
        "    for path in glob.glob(train_path + '/*.jpg'):\n",
        "      new_train_list.append(path)\n",
        "  return new_train_list"
      ]
    },
    {
      "cell_type": "markdown",
      "source": [
        "TẠO DANH SÁCH TRAIN, VAL, TEST"
      ],
      "metadata": {
        "id": "ZbOGk-bpodHF"
      }
    },
    {
      "cell_type": "code",
      "execution_count": null,
      "metadata": {
        "id": "Men62xdiavY_"
      },
      "outputs": [],
      "source": [
        "#tạo danh sách train, val, test\n",
        "\n",
        "train_list = make_datapath_list('train')\n",
        "test_list = make_datapath_list('test')\n",
        "\n",
        "train_list = image_class_filter(train_list, disease_list_2, phase='train')\n",
        "test_list = image_class_filter(test_list, disease_list_2, phase='test')\n",
        "train_list, val_list = train_test_split(train_list, test_size=0.2)\n"
      ]
    },
    {
      "cell_type": "code",
      "source": [
        "print(len(train_list))"
      ],
      "metadata": {
        "colab": {
          "base_uri": "https://localhost:8080/"
        },
        "id": "QsYWmSBuCqD1",
        "outputId": "5db7b972-adac-460a-d705-8b8472b77c1c"
      },
      "execution_count": null,
      "outputs": [
        {
          "output_type": "stream",
          "name": "stdout",
          "text": [
            "2620\n"
          ]
        }
      ]
    },
    {
      "cell_type": "markdown",
      "source": [
        "TẠO DATASET VÀ DATA LOADER ĐỂ ĐƯA VÀO HUẤN LUYỆN"
      ],
      "metadata": {
        "id": "KPLnnGDbogJU"
      }
    },
    {
      "cell_type": "code",
      "execution_count": null,
      "metadata": {
        "id": "ccag4NJya4Mv"
      },
      "outputs": [],
      "source": [
        "\n",
        "#tạo dataset\n",
        "train_dataset_original = MyDataset(train_list, disease_dict_2, transform=ImageTransform(resize, mean, std), phase='original')\n",
        "train_dataset_augment = MyDataset(train_list, disease_dict_2, transform=ImageTransform(resize, mean, std), phase='augment')\n",
        "val_dataset = MyDataset(val_list, disease_dict_2, transform=ImageTransform(resize,mean, std), phase='val')\n",
        "test_dataset = MyDataset(test_list, disease_dict_2, transform=ImageTransform(resize, mean, std), phase='test')\n",
        "\n",
        "train_dataset = ConcatDataset([train_dataset_augment, train_dataset_original])\n",
        "\n",
        "#train_dataset, val_dataset = torch.utils.data.random_split(train_dataset, [5000, 1258])\n",
        "#tạo dataloader để đưa vào huấn luyện \n",
        "train_loader = torch.utils.data.DataLoader(train_dataset, batch_size=32, shuffle=True)\n",
        "val_loader = torch.utils.data.DataLoader(val_dataset, batch_size=32, shuffle=True)\n",
        "test_loader = torch.utils.data.DataLoader(test_dataset, batch_size=32, shuffle=True)\n",
        "\n",
        "#tạo dataloader dict\n",
        "data_loaders = {\n",
        "    'train': train_loader,\n",
        "    'val': val_loader,\n",
        "    'test': test_loader\n",
        "}"
      ]
    },
    {
      "cell_type": "markdown",
      "source": [],
      "metadata": {
        "id": "AQRbZInfolCZ"
      }
    },
    {
      "cell_type": "code",
      "execution_count": null,
      "metadata": {
        "id": "xWmR_w3VbUWt"
      },
      "outputs": [],
      "source": [
        "def set_parameter_requires_grad(model_ft, feature_extracting=True):\n",
        "  if feature_extracting:\n",
        "    for param in model_ft.parameter():\n",
        "      param.requires_grad = False"
      ]
    },
    {
      "cell_type": "markdown",
      "source": [
        "HÀM KHỞI TẠO MÔ HÌNH"
      ],
      "metadata": {
        "id": "d9bkVDHpowRk"
      }
    },
    {
      "cell_type": "code",
      "execution_count": null,
      "metadata": {
        "id": "J2mlSscybZAD"
      },
      "outputs": [],
      "source": [
        "def initialize_model(model_name, num_classes, feature_extract, use_pretrained=True):\n",
        "  model_ft = None\n",
        "  input_size = 0\n",
        "\n",
        "  if model_name == 'resnet':\n",
        "    model_ft = models.resnet50(pretrained=use_pretrained)\n",
        "    set_parameter_requires_grad(model_ft, feature_extract)\n",
        "    num_ftrs = model_ft.fc.in_features\n",
        "    model_ft.fc = nn.Linear(num_ftrs, num_classes)\n",
        "    input_size = 224\n",
        "\n",
        "  elif model_name == 'squeezenet':\n",
        "    model_ft = models.squeezenet1_0(pretrained=use_pretrained)\n",
        "    set_parameter_requires_grad(model_ft, feature_extract)\n",
        "    model_ft.classifier[1] = nn.Conv2d(512, num_classes, kernel_size=(1,1), stride=(1,1))\n",
        "    model_ft.num_classes = num_classes\n",
        "    input_size = 224\n",
        "\n",
        "  elif model_name == \"densenet\":\n",
        "        \"\"\" Densenet\n",
        "        \"\"\"\n",
        "        model_ft = models.densenet121(pretrained=use_pretrained)\n",
        "        set_parameter_requires_grad(model_ft, feature_extract)\n",
        "        num_ftrs = model_ft.classifier.in_features\n",
        "        model_ft.classifier = nn.Linear(num_ftrs, num_classes)\n",
        "        input_size = 224\n",
        "\n",
        "  elif model_name == \"inception\":\n",
        "        \"\"\" Inception v3\n",
        "        Be careful, expects (299,299) sized images and has auxiliary output\n",
        "        \"\"\"\n",
        "        model_ft = models.inception_v3(pretrained=use_pretrained)\n",
        "        set_parameter_requires_grad(model_ft, feature_extract)\n",
        "        # Handle the auxilary net\n",
        "        num_ftrs = model_ft.AuxLogits.fc.in_features\n",
        "        model_ft.AuxLogits.fc = nn.Linear(num_ftrs, num_classes)\n",
        "        # Handle the primary net\n",
        "        num_ftrs = model_ft.fc.in_features\n",
        "        model_ft.fc = nn.Linear(num_ftrs,num_classes)\n",
        "        input_size = 299\n",
        "\n",
        "  else:\n",
        "        print(\"Invalid model name, exiting...\")\n",
        "        exit()\n",
        "\n",
        "  return model_ft, input_size\n"
      ]
    },
    {
      "cell_type": "markdown",
      "source": [
        "CLASS EARLY STOPPING: QUYẾT ĐỊNH DỪNG HUẤN LUYỆN SAU 1 LƯỢNG EPOCH MÀ VALIDATION LOSS KHÔNG ĐƯỢC CẢI THIỆN (KHÔNG GIẢM)"
      ],
      "metadata": {
        "id": "Nrd03Bh3o0Bs"
      }
    },
    {
      "cell_type": "code",
      "execution_count": null,
      "metadata": {
        "id": "3cJqArCzboo5"
      },
      "outputs": [],
      "source": [
        "class EarlyStopping:\n",
        "  def __init__(self, patience=7, verbose=False, delta=0, path='/content/drive/MyDrive/MQ ICT/Densenet/earlyStopping/current_checkpoint_augmentation.pt', trace_func=print):\n",
        "      \"\"\"\n",
        "        Args:\n",
        "            patience (int): thời gian đợi kể từ lần cuối validation loss giảm\n",
        "                            mặc định: 7\n",
        "            verbose (bool): nếu True, in một thông báo cho mỗi lần cải thiện validation loss\n",
        "                            Default: False\n",
        "            delta (float): Thay đổi tối thiểu về số lượng được giám sát để đủ điều kiện là một cải tiến.\n",
        "                            Default: 0\n",
        "            path (str): đưỡng dẫn tới file checkpoint.\n",
        "                          \n",
        "            trace_func (function): hàm in dấu vết\n",
        "                            Default: print            \n",
        "        \"\"\"\n",
        "\n",
        "      self.patience = patience\n",
        "      self.verbose = verbose\n",
        "      self.counter = 0\n",
        "      self.best_score = None\n",
        "      self.early_stop = False\n",
        "      self.val_loss_min = np.Inf\n",
        "      self.delta = delta\n",
        "      self.path = path\n",
        "      self.trace_func = trace_func\n",
        "\n",
        "  def __call__(self, val_loss, model):\n",
        "\n",
        "     score = -val_loss\n",
        "\n",
        "     if self.best_score is None:\n",
        "        self.best_score = score\n",
        "        self.save_checkpoint(val_loss, model)\n",
        "     elif score < self.best_score + self.delta:\n",
        "        self.counter += 1\n",
        "        self.trace_func(f'EarlyStopping counter: {self.counter} out of {self.patience}')\n",
        "        if self.counter >= self.patience:\n",
        "            self.early_stop = True\n",
        "     else:\n",
        "        self.best_score = score\n",
        "        self.save_checkpoint(val_loss, model)\n",
        "        self.counter = 0\n",
        "\n",
        "  def save_checkpoint(self, val_loss, model):\n",
        "        '''Saves model when validation loss decrease.'''\n",
        "        if self.verbose:\n",
        "            self.trace_func(f'Validation loss decreased ({self.val_loss_min:.6f} --> {val_loss:.6f}).  Saving model ...')\n",
        "        torch.save(model.state_dict(), self.path)\n",
        "        self.val_loss_min = val_loss"
      ]
    },
    {
      "cell_type": "markdown",
      "source": [
        "HÀM HUẤN LUYỆN MÔ HÌNH"
      ],
      "metadata": {
        "id": "XxfU8q0lo_5H"
      }
    },
    {
      "cell_type": "code",
      "source": [
        "def train(start_epoch, n_epochs, val_loss_min, loaders, model, criterion, optimizer, patience):\n",
        "  #print('begin')\n",
        "  # to track the training loss as the model trains\n",
        "  train_losses = []\n",
        "  # to track the validation loss as the model trains\n",
        "  valid_losses = []\n",
        "  # to track the average training loss per epoch as the model trains\n",
        "  avg_train_losses = []\n",
        "  # to track the average validation loss per epoch as the model trains\n",
        "  avg_valid_losses = []\n",
        "\n",
        "  train_acc = []\n",
        "  valid_acc = []\n",
        "  avg_train_acc = []\n",
        "  avg_valid_acc = []\n",
        "  \n",
        "  early_stopping = EarlyStopping(patience=patience, verbose=True)\n",
        "\n",
        "  #print(\"early stop\")\n",
        "  for epoch in range(start_epoch, n_epochs+1):\n",
        "    #training\n",
        "    #print(\"training\")\n",
        "    model.train()\n",
        "    for bacth_index, (images, labels) in enumerate(loaders['train']):\n",
        "      N = images.size(0)\n",
        "      #print(\"tiếp tục\")\n",
        "      optimizer.zero_grad()\n",
        "      outputs = model(images)\n",
        "      loss = criterion(outputs, labels)\n",
        "      loss.backward()\n",
        "      optimizer.step()\n",
        "      predictions = outputs.max(1, keepdim=True)[1]\n",
        "\n",
        "      train_losses.append(loss.item())\n",
        "      train_acc.append(predictions.eq(labels.view_as(predictions)).sum().item()/N)\n",
        "    #validation\n",
        "    model.eval()\n",
        "    with torch.no_grad():\n",
        "      for batch_index, (images, labels) in enumerate(loaders['val']):\n",
        "        N = images.size(0)\n",
        "        outputs = model(images)\n",
        "        loss = criterion(outputs, labels)\n",
        "        predictions = outputs.max(1, keepdim=True)[1]\n",
        "        \n",
        "        valid_losses.append(loss.item())\n",
        "        valid_acc.append(predictions.eq(labels.view_as(predictions)).sum().item()/N)\n",
        "\n",
        "    # print training/validation statistics \n",
        "    # calculate average loss over an epoch\n",
        "\n",
        "    train_loss = np.average(train_losses)\n",
        "    valid_loss = np.average(valid_losses)\n",
        "    avg_train_losses.append(train_loss)\n",
        "    avg_valid_losses.append(valid_loss)\n",
        "    \n",
        "    train = np.average(train_acc)\n",
        "    valid = np.average(valid_acc)\n",
        "    avg_train_acc.append(train)\n",
        "    avg_valid_acc.append(valid)\n",
        "    \n",
        "    epoch_len = len(str(n_epochs))\n",
        "        \n",
        "    checkpoint = {\n",
        "        'epoch': epoch + 1,\n",
        "        'valid_loss': valid_loss,\n",
        "        'avg_train_loss': avg_train_losses,\n",
        "        'avg_valid_loss': avg_valid_losses,\n",
        "        'avg_train_acc': avg_train_acc,\n",
        "        'avg_valid_acc': avg_valid_acc,\n",
        "        'state_dict': model.state_dict(),\n",
        "        'optimizer': optimizer.state_dict()\n",
        "    }\n",
        "\n",
        "    torch.save(checkpoint, '/content/drive/MyDrive/MQ ICT/Densenet/earlyStopping/checkpoint_augmentation.pt')\n",
        "    print_msg = (f'[{epoch:>{epoch_len}}/{n_epochs:>{epoch_len}}] ' +\n",
        "                     f'train_loss: {train_loss:.5f} ' +\n",
        "                     f'train_acc: {train:.5f}'  +\n",
        "                     f'valid_loss: {valid_loss:.5f}'  \n",
        "                     f'valid_acc: {valid:.5f}'\n",
        "                 )\n",
        "        \n",
        "    print(print_msg)\n",
        "        \n",
        "    # clear lists to track next epoch\n",
        "    train_losses = []\n",
        "    valid_losses = []\n",
        "    train_acc = []\n",
        "    valid_acc = []\n",
        "\n",
        "    early_stopping(valid_loss, model)\n",
        "        \n",
        "    if early_stopping.early_stop:\n",
        "            print(\"Early stopping\")\n",
        "            break\n",
        "\n",
        "  return model, avg_train_losses, avg_valid_losses, avg_train_acc, avg_valid_acc"
      ],
      "metadata": {
        "id": "AXRbTkDDEXUB"
      },
      "execution_count": null,
      "outputs": []
    },
    {
      "cell_type": "markdown",
      "source": [
        "Huấn luyện với tập dữ liệu chưa augmentation\n"
      ],
      "metadata": {
        "id": "lHdSj6HtlSgQ"
      }
    },
    {
      "cell_type": "code",
      "source": [
        "num_epochs = 100\n",
        "model_ft, size = initialize_model(model_name='densenet', num_classes=3, feature_extract=False, use_pretrained=True)\n",
        "criterion = nn.CrossEntropyLoss()\n",
        "optimizer = optim.Adam(model_ft.parameters(), lr=0.0001, weight_decay=1e-4)\n",
        "#scheduler = torch.optim.lr_scheduler.Reduc\n",
        "\n",
        "trained_model, avg_train_losses, avg_valid_losses, avg_train_acc, avg_valid_acc = train(start_epoch=1, \n",
        "                                                                                        n_epochs=num_epochs, \n",
        "                                                                                        val_loss_min=np.Inf, \n",
        "                                                                                        loaders=data_loaders, \n",
        "                                                                                        model=model_ft, \n",
        "                                                                                        criterion=criterion, \n",
        "                                                                                        optimizer=optimizer,\n",
        "                                                                                        patience=5\n",
        "                                                                                        )"
      ],
      "metadata": {
        "colab": {
          "base_uri": "https://localhost:8080/",
          "height": 520,
          "referenced_widgets": [
            "f161d3f0ef764db7bf884b979c51b5f0",
            "7b3cd8ec71684e73baff8c80d986af74",
            "0e2a85dceee443ad9b3acaf29ebb820b",
            "1585f9013d454f98bfec6b6943ad2503",
            "f0de34da818347baadf426d64fe2006a",
            "2166894c968945c09fcdc0ebfa18e9d1",
            "3e02170e29054bee831b5680390ef8b0",
            "f4fe42f0f58243f7aac522b0becde26c",
            "8e4aebfe253b41a888a19143f51af880",
            "cd64a5857f104f86a41fca20c85bb897",
            "62f3a24ab27e4bd685a1dad58fa47983"
          ]
        },
        "id": "VyCm8mk3FrBM",
        "outputId": "cc386d5e-3b53-49cd-bc5e-23698f23fbb8"
      },
      "execution_count": null,
      "outputs": [
        {
          "output_type": "stream",
          "name": "stderr",
          "text": [
            "/usr/local/lib/python3.7/dist-packages/torchvision/models/_utils.py:209: UserWarning: The parameter 'pretrained' is deprecated since 0.13 and will be removed in 0.15, please use 'weights' instead.\n",
            "  f\"The parameter '{pretrained_param}' is deprecated since 0.13 and will be removed in 0.15, \"\n",
            "/usr/local/lib/python3.7/dist-packages/torchvision/models/_utils.py:223: UserWarning: Arguments other than a weight enum or `None` for 'weights' are deprecated since 0.13 and will be removed in 0.15. The current behavior is equivalent to passing `weights=DenseNet121_Weights.IMAGENET1K_V1`. You can also use `weights=DenseNet121_Weights.DEFAULT` to get the most up-to-date weights.\n",
            "  warnings.warn(msg)\n",
            "Downloading: \"https://download.pytorch.org/models/densenet121-a639ec97.pth\" to /root/.cache/torch/hub/checkpoints/densenet121-a639ec97.pth\n"
          ]
        },
        {
          "output_type": "display_data",
          "data": {
            "text/plain": [
              "  0%|          | 0.00/30.8M [00:00<?, ?B/s]"
            ],
            "application/vnd.jupyter.widget-view+json": {
              "version_major": 2,
              "version_minor": 0,
              "model_id": "f161d3f0ef764db7bf884b979c51b5f0"
            }
          },
          "metadata": {}
        },
        {
          "output_type": "stream",
          "name": "stdout",
          "text": [
            "[  1/100] train_loss: 0.54433 train_acc: 0.77210valid_loss: 0.41765valid_acc: 0.84315\n",
            "Validation loss decreased (inf --> 0.417646).  Saving model ...\n",
            "[  2/100] train_loss: 0.33270 train_acc: 0.87206valid_loss: 0.36015valid_acc: 0.87609\n",
            "Validation loss decreased (0.417646 --> 0.360147).  Saving model ...\n",
            "[  3/100] train_loss: 0.23531 train_acc: 0.91077valid_loss: 0.32170valid_acc: 0.86310\n",
            "Validation loss decreased (0.360147 --> 0.321697).  Saving model ...\n",
            "[  4/100] train_loss: 0.20125 train_acc: 0.92411valid_loss: 0.30382valid_acc: 0.88204\n",
            "Validation loss decreased (0.321697 --> 0.303825).  Saving model ...\n",
            "[  5/100] train_loss: 0.15054 train_acc: 0.94817valid_loss: 0.29792valid_acc: 0.88968\n",
            "Validation loss decreased (0.303825 --> 0.297924).  Saving model ...\n",
            "[  6/100] train_loss: 0.11790 train_acc: 0.96113valid_loss: 0.31673valid_acc: 0.89712\n",
            "EarlyStopping counter: 1 out of 5\n",
            "[  7/100] train_loss: 0.10680 train_acc: 0.96031valid_loss: 0.33237valid_acc: 0.90030\n",
            "EarlyStopping counter: 2 out of 5\n",
            "[  8/100] train_loss: 0.08881 train_acc: 0.96799valid_loss: 0.36869valid_acc: 0.87272\n",
            "EarlyStopping counter: 3 out of 5\n",
            "[  9/100] train_loss: 0.06478 train_acc: 0.97817valid_loss: 0.34829valid_acc: 0.90476\n",
            "EarlyStopping counter: 4 out of 5\n",
            "[ 10/100] train_loss: 0.06772 train_acc: 0.97790valid_loss: 0.35842valid_acc: 0.87887\n",
            "EarlyStopping counter: 5 out of 5\n",
            "Early stopping\n"
          ]
        }
      ]
    },
    {
      "cell_type": "code",
      "source": [
        "trained_model.load_state_dict(torch.load('/content/drive/MyDrive/MQ ICT/Densenet/earlyStopping/current_checkpoint.pt'))"
      ],
      "metadata": {
        "colab": {
          "base_uri": "https://localhost:8080/"
        },
        "id": "itPWV58TanIO",
        "outputId": "e9fa3554-4ec2-4067-a4d0-9fc4c1e066f9"
      },
      "execution_count": null,
      "outputs": [
        {
          "output_type": "execute_result",
          "data": {
            "text/plain": [
              "<All keys matched successfully>"
            ]
          },
          "metadata": {},
          "execution_count": 26
        }
      ]
    },
    {
      "cell_type": "code",
      "source": [],
      "metadata": {
        "id": "9aeFWdzEbNUt"
      },
      "execution_count": null,
      "outputs": []
    },
    {
      "cell_type": "code",
      "source": [
        "fig = plt.figure(figsize=(10,8))\n",
        "plt.plot(range(1,len(avg_train_losses)+1),avg_train_losses, label='Training Loss')\n",
        "plt.plot(range(1,len(avg_valid_losses)+1),avg_valid_losses,label='Validation Loss')\n",
        "plt.plot(range(1,len(avg_train_acc)+1),avg_train_acc, label='Training Accuracy')\n",
        "plt.plot(range(1,len(avg_valid_acc)+1),avg_valid_acc,label='Validation Accuracy')\n",
        "\n",
        "# find position of lowest validation loss\n",
        "minposs = avg_valid_losses.index(min(avg_valid_losses))+1 \n",
        "plt.axvline(minposs, linestyle='--', color='r',label='Early Stopping Checkpoint')\n",
        "\n",
        "#plt.xlabel('epochs')\n",
        "#plt.ylabel('loss')\n",
        "#plt.ylim(0, 0.5) # consistent scale\n",
        "#plt.xlim(0, len(avg_train_losses)+1) # consistent scale\n",
        "plt.grid(True)\n",
        "plt.legend()\n",
        "plt.tight_layout()\n",
        "plt.show()\n",
        "fig.savefig('loss_plot.png', bbox_inches='tight')"
      ],
      "metadata": {
        "colab": {
          "base_uri": "https://localhost:8080/",
          "height": 585
        },
        "id": "1VxGHT70amMp",
        "outputId": "530fbae7-533c-43d4-d440-bdf3e6814495"
      },
      "execution_count": null,
      "outputs": [
        {
          "output_type": "display_data",
          "data": {
            "text/plain": [
              "<Figure size 720x576 with 1 Axes>"
            ],
            "image/png": "[encoded data removed]"
          },
          "metadata": {
            "needs_background": "light"
          }
        }
      ]
    },
    {
      "cell_type": "code",
      "source": [
        "from sklearn.metrics import confusion_matrix, classification_report\n",
        "import matplotlib.pyplot as plt\n",
        "import itertools\n",
        "\n",
        "def plot_cf_matrix(cm, classes, normalize=False, title='Confusion matrix', cmap=plt.cm.Blues):\n",
        "    plt.imshow(cm, interpolation='nearest', cmap=cmap)\n",
        "    plt.title(title)\n",
        "    plt.colorbar()\n",
        "    tick_marks = np.arange(len(classes))\n",
        "    plt.xticks(tick_marks, classes, rotation=45)\n",
        "    plt.yticks(tick_marks, classes)\n",
        "\n",
        "    if normalize:\n",
        "        cm = cm.astype('float') / cm.sum(axis=1)[:, np.newaxis]\n",
        "\n",
        "    thresh = cm.max() / 2.\n",
        "    for i, j in itertools.product(range(cm.shape[0]), range(cm.shape[1])):\n",
        "        plt.text(j, i, cm[i, j],\n",
        "                 horizontalalignment=\"center\",\n",
        "                 color=\"white\" if cm[i, j] > thresh else \"black\")\n",
        "\n",
        "    plt.tight_layout()\n",
        "    plt.ylabel('True label')\n",
        "    plt.xlabel('Predicted label')\n",
        "\n",
        "trained_model.eval()\n",
        "y_label = []\n",
        "y_predict = []\n",
        "with torch.no_grad():\n",
        "    for i, data in enumerate(data_loaders['test']):\n",
        "        images, labels = data\n",
        "        N = images.size(0)\n",
        "        outputs = trained_model(images)\n",
        "        prediction = outputs.max(1, keepdim=True)[1]\n",
        "        y_label.extend(labels.numpy())\n",
        "        y_predict.extend(np.squeeze(prediction.numpy().T))\n",
        "\n",
        "# compute the confusion matrix\n",
        "confusion_mtx = confusion_matrix(y_label, y_predict)\n",
        "# plot the confusion matrix\n",
        "plot_labels = ['actitic', 'nail', 'warts']\n",
        "plot_cf_matrix(confusion_mtx, plot_labels)\n",
        "\n"
      ],
      "metadata": {
        "id": "b_iUlz_9Zz80",
        "colab": {
          "base_uri": "https://localhost:8080/",
          "height": 311
        },
        "outputId": "55982666-5d8f-4f2f-b886-4e28ce4e8d58"
      },
      "execution_count": null,
      "outputs": [
        {
          "output_type": "display_data",
          "data": {
            "text/plain": [
              "<Figure size 432x288 with 2 Axes>"
            ],
            "image/png": "[encoded data removed]"
          },
          "metadata": {
            "needs_background": "light"
          }
        }
      ]
    },
    {
      "cell_type": "code",
      "source": [
        "report = classification_report(y_label, y_predict, target_names=plot_labels)\n",
        "print(report)"
      ],
      "metadata": {
        "id": "bPe-lg-6Z4Ug",
        "colab": {
          "base_uri": "https://localhost:8080/"
        },
        "outputId": "6a9bd593-d6ba-45a1-e8d3-6fa8ea3d8989"
      },
      "execution_count": null,
      "outputs": [
        {
          "output_type": "stream",
          "name": "stdout",
          "text": [
            "              precision    recall  f1-score   support\n",
            "\n",
            "     actitic       0.91      0.83      0.87       288\n",
            "        nail       0.93      0.93      0.93       261\n",
            "       warts       0.83      0.90      0.87       272\n",
            "\n",
            "    accuracy                           0.89       821\n",
            "   macro avg       0.89      0.89      0.89       821\n",
            "weighted avg       0.89      0.89      0.89       821\n",
            "\n"
          ]
        }
      ]
    },
    {
      "cell_type": "code",
      "source": [
        "def train_v2(start_epoch, n_epochs, val_loss_min, loaders, model, criterion, optimizer, patience, scheduler):\n",
        "  #print('begin')\n",
        "  # to track the training loss as the model trains\n",
        "  train_losses = []\n",
        "  # to track the validation loss as the model trains\n",
        "  valid_losses = []\n",
        "  # to track the average training loss per epoch as the model trains\n",
        "  avg_train_losses = []\n",
        "  # to track the average validation loss per epoch as the model trains\n",
        "  avg_valid_losses = []\n",
        "\n",
        "  train_acc = []\n",
        "  valid_acc = []\n",
        "  avg_train_acc = []\n",
        "  avg_valid_acc = []\n",
        "  \n",
        "  early_stopping = EarlyStopping(patience=patience, verbose=True)\n",
        "  #print(\"early stop\")\n",
        "  for epoch in range(start_epoch, n_epochs+1):\n",
        "    #training\n",
        "    #print(\"training\")\n",
        "    model.train()\n",
        "    for bacth_index, (images, labels) in enumerate(loaders['train']):\n",
        "      N = images.size(0)\n",
        "      #print(\"tiếp tục\")\n",
        "      optimizer.zero_grad()\n",
        "      outputs = model(images)\n",
        "      loss = criterion(outputs, labels)\n",
        "      loss.backward()\n",
        "      optimizer.step()\n",
        "      predictions = outputs.max(1, keepdim=True)[1]\n",
        "\n",
        "      train_losses.append(loss.item())\n",
        "      train_acc.append(predictions.eq(labels.view_as(predictions)).sum().item()/N)\n",
        "    #validation\n",
        "    model.eval()\n",
        "    with torch.no_grad():\n",
        "      for batch_index, (images, labels) in enumerate(loaders['val']):\n",
        "        N = images.size(0)\n",
        "        outputs = model(images)\n",
        "        loss = criterion(outputs, labels)\n",
        "        predictions = outputs.max(1, keepdim=True)[1]\n",
        "        \n",
        "        valid_losses.append(loss.item())\n",
        "        valid_acc.append(predictions.eq(labels.view_as(predictions)).sum().item()/N)\n",
        "\n",
        "    # print training/validation statistics \n",
        "    # calculate average loss over an epoch\n",
        "\n",
        "\n",
        "    train_loss = np.average(train_losses)\n",
        "    valid_loss = np.average(valid_losses)\n",
        "    avg_train_losses.append(train_loss)\n",
        "    avg_valid_losses.append(valid_loss)\n",
        "    \n",
        "    train = np.average(train_acc)\n",
        "    valid = np.average(valid_acc)\n",
        "    avg_train_acc.append(train)\n",
        "    avg_valid_acc.append(valid)\n",
        "    \n",
        "    scheduler.step(train_loss)\n",
        "\n",
        "    epoch_len = len(str(n_epochs))\n",
        "        \n",
        "    checkpoint = {\n",
        "        'epoch': epoch + 1,\n",
        "        'valid_loss': valid_loss,\n",
        "        'avg_train_loss': avg_train_losses,\n",
        "        'avg_valid_loss': avg_valid_losses,\n",
        "        'avg_train_acc': avg_train_acc,\n",
        "        'avg_valid_acc': avg_valid_acc,\n",
        "        'state_dict': model.state_dict(),\n",
        "        'optimizer': optimizer.state_dict()\n",
        "    }\n",
        "\n",
        "    torch.save(checkpoint, '/content/drive/MyDrive/MQ ICT/Densenet/earlyStopping/checkpoint_2.pt')\n",
        "    print_msg = (f'[{epoch:>{epoch_len}}/{n_epochs:>{epoch_len}}] ' +\n",
        "                     f'train_loss: {train_loss:.5f} ' +\n",
        "                     f'train_acc: {train:.5f}'  +\n",
        "                     f'valid_loss: {valid_loss:.5f}'  \n",
        "                     f'valid_acc: {valid:.5f}'\n",
        "                 )\n",
        "        \n",
        "    print(print_msg)\n",
        "        \n",
        "    # clear lists to track next epoch\n",
        "    train_losses = []\n",
        "    valid_losses = []\n",
        "    train_acc = []\n",
        "    valid_acc = []\n",
        "\n",
        "    early_stopping(valid_loss, model)\n",
        "        \n",
        "    if early_stopping.early_stop:\n",
        "            print(\"Early stopping\")\n",
        "            break\n",
        "\n",
        "  return model, avg_train_losses, avg_valid_losses, avg_train_acc, avg_valid_acc"
      ],
      "metadata": {
        "id": "qWxXVmV-e7c1"
      },
      "execution_count": null,
      "outputs": []
    },
    {
      "cell_type": "markdown",
      "source": [
        "Huấn luyện với learning rate scheduler"
      ],
      "metadata": {
        "id": "4HNzDmZelYxC"
      }
    },
    {
      "cell_type": "code",
      "source": [
        "num_epochs = 100\n",
        "model_ft_2, size = initialize_model(model_name='densenet', num_classes=3, feature_extract=False, use_pretrained=True)\n",
        "criterion_2 = nn.CrossEntropyLoss()\n",
        "optimizer_2 = optim.Adam(model_ft_2.parameters(), lr=0.0001, weight_decay=1e-4)\n",
        "scheduler = torch.optim.lr_scheduler.ReduceLROnPlateau(optimizer_2, factor=0.1, patience=5, verbose=True)\n",
        "\n",
        "trained_model, avg_train_losses, avg_valid_losses, avg_train_acc, avg_valid_acc = train_v2(start_epoch=1, \n",
        "                                                                                        n_epochs=num_epochs, \n",
        "                                                                                        val_loss_min=np.Inf, \n",
        "                                                                                        loaders=data_loaders, \n",
        "                                                                                        model=model_ft_2,\n",
        "                                                                                        criterion=criterion_2, \n",
        "                                                                                        optimizer=optimizer_2,\n",
        "                                                                                        patience=10,\n",
        "                                                                                        scheduler=scheduler\n",
        "                                                                                        )"
      ],
      "metadata": {
        "colab": {
          "base_uri": "https://localhost:8080/"
        },
        "id": "CUukPNf-gxwy",
        "outputId": "92ae0de9-bd3d-4794-f40c-49e29aba9b05"
      },
      "execution_count": null,
      "outputs": [
        {
          "output_type": "stream",
          "name": "stderr",
          "text": [
            "/usr/local/lib/python3.7/dist-packages/torchvision/models/_utils.py:209: UserWarning: The parameter 'pretrained' is deprecated since 0.13 and will be removed in 0.15, please use 'weights' instead.\n",
            "  f\"The parameter '{pretrained_param}' is deprecated since 0.13 and will be removed in 0.15, \"\n",
            "/usr/local/lib/python3.7/dist-packages/torchvision/models/_utils.py:223: UserWarning: Arguments other than a weight enum or `None` for 'weights' are deprecated since 0.13 and will be removed in 0.15. The current behavior is equivalent to passing `weights=DenseNet121_Weights.IMAGENET1K_V1`. You can also use `weights=DenseNet121_Weights.DEFAULT` to get the most up-to-date weights.\n",
            "  warnings.warn(msg)\n"
          ]
        },
        {
          "output_type": "stream",
          "name": "stdout",
          "text": [
            "[  1/100] train_loss: 0.55765 train_acc: 0.77542valid_loss: 0.43060valid_acc: 0.81597\n",
            "Validation loss decreased (inf --> 0.430600).  Saving model ...\n",
            "[  2/100] train_loss: 0.33875 train_acc: 0.87217valid_loss: 0.45785valid_acc: 0.83720\n",
            "EarlyStopping counter: 1 out of 10\n",
            "[  3/100] train_loss: 0.25561 train_acc: 0.90690valid_loss: 0.39559valid_acc: 0.87014\n",
            "Validation loss decreased (0.430600 --> 0.395593).  Saving model ...\n",
            "[  4/100] train_loss: 0.20774 train_acc: 0.92607valid_loss: 0.40303valid_acc: 0.86756\n",
            "EarlyStopping counter: 1 out of 10\n",
            "[  5/100] train_loss: 0.15907 train_acc: 0.94088valid_loss: 0.35984valid_acc: 0.87312\n",
            "Validation loss decreased (0.395593 --> 0.359838).  Saving model ...\n",
            "[  6/100] train_loss: 0.12521 train_acc: 0.95416valid_loss: 0.34235valid_acc: 0.88502\n",
            "Validation loss decreased (0.359838 --> 0.342351).  Saving model ...\n",
            "[  7/100] train_loss: 0.10762 train_acc: 0.96107valid_loss: 0.32045valid_acc: 0.89137\n",
            "Validation loss decreased (0.342351 --> 0.320455).  Saving model ...\n",
            "[  8/100] train_loss: 0.09909 train_acc: 0.96831valid_loss: 0.36118valid_acc: 0.89544\n",
            "EarlyStopping counter: 1 out of 10\n",
            "[  9/100] train_loss: 0.08288 train_acc: 0.97327valid_loss: 0.36956valid_acc: 0.88690\n",
            "EarlyStopping counter: 2 out of 10\n",
            "[ 10/100] train_loss: 0.08727 train_acc: 0.96951valid_loss: 0.38616valid_acc: 0.89692\n",
            "EarlyStopping counter: 3 out of 10\n",
            "[ 11/100] train_loss: 0.05356 train_acc: 0.98285valid_loss: 0.39699valid_acc: 0.88968\n",
            "EarlyStopping counter: 4 out of 10\n",
            "[ 12/100] train_loss: 0.05647 train_acc: 0.98095valid_loss: 0.33263valid_acc: 0.90010\n",
            "EarlyStopping counter: 5 out of 10\n",
            "[ 13/100] train_loss: 0.05466 train_acc: 0.98399valid_loss: 0.33099valid_acc: 0.90010\n",
            "EarlyStopping counter: 6 out of 10\n",
            "[ 14/100] train_loss: 0.03782 train_acc: 0.98933valid_loss: 0.42648valid_acc: 0.87867\n",
            "EarlyStopping counter: 7 out of 10\n",
            "[ 15/100] train_loss: 0.04108 train_acc: 0.98971valid_loss: 0.35811valid_acc: 0.90179\n",
            "EarlyStopping counter: 8 out of 10\n",
            "[ 16/100] train_loss: 0.04722 train_acc: 0.98323valid_loss: 0.35633valid_acc: 0.90754\n",
            "EarlyStopping counter: 9 out of 10\n",
            "[ 17/100] train_loss: 0.02934 train_acc: 0.99314valid_loss: 0.41914valid_acc: 0.89395\n",
            "EarlyStopping counter: 10 out of 10\n",
            "Early stopping\n"
          ]
        }
      ]
    },
    {
      "cell_type": "markdown",
      "source": [
        "Huấn luyện với tập dữ liệu đã augmentation"
      ],
      "metadata": {
        "id": "doJHpqi2ldyv"
      }
    },
    {
      "cell_type": "code",
      "source": [
        "num_epochs = 100\n",
        "model_ft_aug, size = initialize_model(model_name='densenet', num_classes=3, feature_extract=False, use_pretrained=True)\n",
        "criterion = nn.CrossEntropyLoss()\n",
        "optimizer = optim.Adam(model_ft_aug.parameters(), lr=0.0001, weight_decay=1e-4)\n",
        "#scheduler = torch.optim.lr_scheduler.Reduc\n",
        "\n",
        "trained_model, avg_train_losses, avg_valid_losses, avg_train_acc, avg_valid_acc = train(start_epoch=1, \n",
        "                                                                                        n_epochs=num_epochs, \n",
        "                                                                                        val_loss_min=np.Inf, \n",
        "                                                                                        loaders=data_loaders, \n",
        "                                                                                        model=model_ft_aug, \n",
        "                                                                                        criterion=criterion, \n",
        "                                                                                        optimizer=optimizer,\n",
        "                                                                                        patience=5\n",
        "                                                                                        )"
      ],
      "metadata": {
        "id": "a8X4cPvZplpu",
        "colab": {
          "base_uri": "https://localhost:8080/"
        },
        "outputId": "9e757f10-b652-4c29-fb20-17f862b6f5f2"
      },
      "execution_count": null,
      "outputs": [
        {
          "output_type": "stream",
          "name": "stderr",
          "text": [
            "/usr/local/lib/python3.7/dist-packages/torchvision/models/_utils.py:209: UserWarning: The parameter 'pretrained' is deprecated since 0.13 and will be removed in 0.15, please use 'weights' instead.\n",
            "  f\"The parameter '{pretrained_param}' is deprecated since 0.13 and will be removed in 0.15, \"\n",
            "/usr/local/lib/python3.7/dist-packages/torchvision/models/_utils.py:223: UserWarning: Arguments other than a weight enum or `None` for 'weights' are deprecated since 0.13 and will be removed in 0.15. The current behavior is equivalent to passing `weights=DenseNet121_Weights.IMAGENET1K_V1`. You can also use `weights=DenseNet121_Weights.DEFAULT` to get the most up-to-date weights.\n",
            "  warnings.warn(msg)\n"
          ]
        },
        {
          "output_type": "stream",
          "name": "stdout",
          "text": [
            "[  1/100] train_loss: 0.54528 train_acc: 0.77045valid_loss: 0.38093valid_acc: 0.85655\n",
            "Validation loss decreased (inf --> 0.380934).  Saving model ...\n",
            "[  2/100] train_loss: 0.30232 train_acc: 0.88427valid_loss: 0.32374valid_acc: 0.87629\n",
            "Validation loss decreased (0.380934 --> 0.323737).  Saving model ...\n",
            "[  3/100] train_loss: 0.22881 train_acc: 0.91222valid_loss: 0.38936valid_acc: 0.84613\n",
            "EarlyStopping counter: 1 out of 5\n",
            "[  4/100] train_loss: 0.19647 train_acc: 0.92575valid_loss: 0.33241valid_acc: 0.87569\n",
            "EarlyStopping counter: 2 out of 5\n",
            "[  5/100] train_loss: 0.16595 train_acc: 0.93775valid_loss: 0.31846valid_acc: 0.89881\n",
            "Validation loss decreased (0.323737 --> 0.318460).  Saving model ...\n",
            "[  6/100] train_loss: 0.15073 train_acc: 0.94271valid_loss: 0.29233valid_acc: 0.89990\n",
            "Validation loss decreased (0.318460 --> 0.292325).  Saving model ...\n",
            "[  7/100] train_loss: 0.12128 train_acc: 0.95440valid_loss: 0.36003valid_acc: 0.88611\n",
            "EarlyStopping counter: 1 out of 5\n",
            "[  8/100] train_loss: 0.12643 train_acc: 0.95274valid_loss: 0.30608valid_acc: 0.89544\n",
            "EarlyStopping counter: 2 out of 5\n",
            "[  9/100] train_loss: 0.12364 train_acc: 0.95306valid_loss: 0.35746valid_acc: 0.88948\n",
            "EarlyStopping counter: 3 out of 5\n",
            "[ 10/100] train_loss: 0.11307 train_acc: 0.95446valid_loss: 0.37347valid_acc: 0.88502\n",
            "EarlyStopping counter: 4 out of 5\n",
            "[ 11/100] train_loss: 0.10066 train_acc: 0.96303valid_loss: 0.34048valid_acc: 0.89692\n",
            "EarlyStopping counter: 5 out of 5\n",
            "Early stopping\n"
          ]
        }
      ]
    },
    {
      "cell_type": "code",
      "source": [
        "trained_model.load_state_dict(torch.load('/content/drive/MyDrive/MQ ICT/Densenet/earlyStopping/current_checkpoint_augmentation.pt'))\n",
        "from sklearn.metrics import confusion_matrix, classification_report\n",
        "import matplotlib.pyplot as plt\n",
        "import itertools\n",
        "fig = plt.figure(figsize=(10,8))\n",
        "plt.plot(range(1,len(avg_train_losses)+1),avg_train_losses, label='Training Loss')\n",
        "plt.plot(range(1,len(avg_valid_losses)+1),avg_valid_losses,label='Validation Loss')\n",
        "plt.plot(range(1,len(avg_train_acc)+1),avg_train_acc, label='Training Accuracy')\n",
        "plt.plot(range(1,len(avg_valid_acc)+1),avg_valid_acc,label='Validation Accuracy')\n",
        "\n",
        "# find position of lowest validation loss\n",
        "minposs = avg_valid_losses.index(min(avg_valid_losses))+1 \n",
        "plt.axvline(minposs, linestyle='--', color='r',label='Early Stopping Checkpoint')\n",
        "\n",
        "#plt.xlabel('epochs')\n",
        "#plt.ylabel('loss')\n",
        "#plt.ylim(0, 0.5) # consistent scale\n",
        "#plt.xlim(0, len(avg_train_losses)+1) # consistent scale\n",
        "plt.grid(True)\n",
        "plt.legend()\n",
        "plt.tight_layout()\n",
        "plt.show()\n",
        "fig.savefig('loss_plot.png', bbox_inches='tight')\n",
        "\n",
        "from sklearn.metrics import confusion_matrix, classification_report\n",
        "import matplotlib.pyplot as plt\n",
        "import itertools\n",
        "\n",
        "def plot_cf_matrix(cm, classes, normalize=False, title='Confusion matrix', cmap=plt.cm.Blues):\n",
        "    plt.imshow(cm, interpolation='nearest', cmap=cmap)\n",
        "    plt.title(title)\n",
        "    plt.colorbar()\n",
        "    tick_marks = np.arange(len(classes))\n",
        "    plt.xticks(tick_marks, classes, rotation=45)\n",
        "    plt.yticks(tick_marks, classes)\n",
        "\n",
        "    if normalize:\n",
        "        cm = cm.astype('float') / cm.sum(axis=1)[:, np.newaxis]\n",
        "\n",
        "    thresh = cm.max() / 2.\n",
        "    for i, j in itertools.product(range(cm.shape[0]), range(cm.shape[1])):\n",
        "        plt.text(j, i, cm[i, j],\n",
        "                 horizontalalignment=\"center\",\n",
        "                 color=\"white\" if cm[i, j] > thresh else \"black\")\n",
        "\n",
        "    plt.tight_layout()\n",
        "    plt.ylabel('True label')\n",
        "    plt.xlabel('Predicted label')\n",
        "\n",
        "trained_model.eval()\n",
        "y_label = []\n",
        "y_predict = []\n",
        "with torch.no_grad():\n",
        "    for i, data in enumerate(data_loaders['test']):\n",
        "        images, labels = data\n",
        "        N = images.size(0)\n",
        "        outputs = trained_model(images)\n",
        "        prediction = outputs.max(1, keepdim=True)[1]\n",
        "        y_label.extend(labels.numpy())\n",
        "        y_predict.extend(np.squeeze(prediction.numpy().T))\n",
        "\n",
        "# compute the confusion matrix\n",
        "confusion_mtx = confusion_matrix(y_label, y_predict)\n",
        "# plot the confusion matrix\n",
        "plot_labels = ['actitic', 'nail', 'warts']\n",
        "plot_cf_matrix(confusion_mtx, plot_labels)\n",
        "\n",
        "report = classification_report(y_label, y_predict, target_names=plot_labels)\n",
        "print(report)\n",
        "\n"
      ],
      "metadata": {
        "colab": {
          "base_uri": "https://localhost:8080/",
          "height": 1000
        },
        "id": "P79KivBfr9q7",
        "outputId": "4f9d3b86-43cf-4d23-fe0c-7bfef5bc81b9"
      },
      "execution_count": null,
      "outputs": [
        {
          "output_type": "display_data",
          "data": {
            "text/plain": [
              "<Figure size 720x576 with 1 Axes>"
            ],
            "image/png": "[encoded data removed]"
          },
          "metadata": {
            "needs_background": "light"
          }
        },
        {
          "output_type": "stream",
          "name": "stdout",
          "text": [
            "              precision    recall  f1-score   support\n",
            "\n",
            "     actitic       0.89      0.93      0.91       288\n",
            "        nail       0.95      0.94      0.95       261\n",
            "       warts       0.90      0.87      0.88       272\n",
            "\n",
            "    accuracy                           0.91       821\n",
            "   macro avg       0.91      0.91      0.91       821\n",
            "weighted avg       0.91      0.91      0.91       821\n",
            "\n"
          ]
        },
        {
          "output_type": "display_data",
          "data": {
            "text/plain": [
              "<Figure size 432x288 with 2 Axes>"
            ],
            "image/png": "[encoded data removed]"
          },
          "metadata": {
            "needs_background": "light"
          }
        }
      ]
    },
    {
      "cell_type": "code",
      "source": [],
      "metadata": {
        "id": "WXxk1EGT3-ze"
      },
      "execution_count": null,
      "outputs": []
    }
  ],
  "metadata": {
    "colab": {
      "machine_shape": "hm",
      "provenance": []
    },
    "gpuClass": "standard",
    "kernelspec": {
      "display_name": "Python 3",
      "name": "python3"
    },
    "language_info": {
      "name": "python"
    },
    "accelerator": "GPU",
    "widgets": {
      "application/vnd.jupyter.widget-state+json": {
        "f161d3f0ef764db7bf884b979c51b5f0": {
          "model_module": "@jupyter-widgets/controls",
          "model_name": "HBoxModel",
          "model_module_version": "1.5.0",
          "state": {
            "_dom_classes": [],
            "_model_module": "@jupyter-widgets/controls",
            "_model_module_version": "1.5.0",
            "_model_name": "HBoxModel",
            "_view_count": null,
            "_view_module": "@jupyter-widgets/controls",
            "_view_module_version": "1.5.0",
            "_view_name": "HBoxView",
            "box_style": "",
            "children": [
              "IPY_MODEL_7b3cd8ec71684e73baff8c80d986af74",
              "IPY_MODEL_0e2a85dceee443ad9b3acaf29ebb820b",
              "IPY_MODEL_1585f9013d454f98bfec6b6943ad2503"
            ],
            "layout": "IPY_MODEL_f0de34da818347baadf426d64fe2006a"
          }
        },
        "7b3cd8ec71684e73baff8c80d986af74": {
          "model_module": "@jupyter-widgets/controls",
          "model_name": "HTMLModel",
          "model_module_version": "1.5.0",
          "state": {
            "_dom_classes": [],
            "_model_module": "@jupyter-widgets/controls",
            "_model_module_version": "1.5.0",
            "_model_name": "HTMLModel",
            "_view_count": null,
            "_view_module": "@jupyter-widgets/controls",
            "_view_module_version": "1.5.0",
            "_view_name": "HTMLView",
            "description": "",
            "description_tooltip": null,
            "layout": "IPY_MODEL_2166894c968945c09fcdc0ebfa18e9d1",
            "placeholder": "​",
            "style": "IPY_MODEL_3e02170e29054bee831b5680390ef8b0",
            "value": "100%"
          }
        },
        "0e2a85dceee443ad9b3acaf29ebb820b": {
          "model_module": "@jupyter-widgets/controls",
          "model_name": "FloatProgressModel",
          "model_module_version": "1.5.0",
          "state": {
            "_dom_classes": [],
            "_model_module": "@jupyter-widgets/controls",
            "_model_module_version": "1.5.0",
            "_model_name": "FloatProgressModel",
            "_view_count": null,
            "_view_module": "@jupyter-widgets/controls",
            "_view_module_version": "1.5.0",
            "_view_name": "ProgressView",
            "bar_style": "success",
            "description": "",
            "description_tooltip": null,
            "layout": "IPY_MODEL_f4fe42f0f58243f7aac522b0becde26c",
            "max": 32342954,
            "min": 0,
            "orientation": "horizontal",
            "style": "IPY_MODEL_8e4aebfe253b41a888a19143f51af880",
            "value": 32342954
          }
        },
        "1585f9013d454f98bfec6b6943ad2503": {
          "model_module": "@jupyter-widgets/controls",
          "model_name": "HTMLModel",
          "model_module_version": "1.5.0",
          "state": {
            "_dom_classes": [],
            "_model_module": "@jupyter-widgets/controls",
            "_model_module_version": "1.5.0",
            "_model_name": "HTMLModel",
            "_view_count": null,
            "_view_module": "@jupyter-widgets/controls",
            "_view_module_version": "1.5.0",
            "_view_name": "HTMLView",
            "description": "",
            "description_tooltip": null,
            "layout": "IPY_MODEL_cd64a5857f104f86a41fca20c85bb897",
            "placeholder": "​",
            "style": "IPY_MODEL_62f3a24ab27e4bd685a1dad58fa47983",
            "value": " 30.8M/30.8M [00:01&lt;00:00, 20.8MB/s]"
          }
        },
        "f0de34da818347baadf426d64fe2006a": {
          "model_module": "@jupyter-widgets/base",
          "model_name": "LayoutModel",
          "model_module_version": "1.2.0",
          "state": {
            "_model_module": "@jupyter-widgets/base",
            "_model_module_version": "1.2.0",
            "_model_name": "LayoutModel",
            "_view_count": null,
            "_view_module": "@jupyter-widgets/base",
            "_view_module_version": "1.2.0",
            "_view_name": "LayoutView",
            "align_content": null,
            "align_items": null,
            "align_self": null,
            "border": null,
            "bottom": null,
            "display": null,
            "flex": null,
            "flex_flow": null,
            "grid_area": null,
            "grid_auto_columns": null,
            "grid_auto_flow": null,
            "grid_auto_rows": null,
            "grid_column": null,
            "grid_gap": null,
            "grid_row": null,
            "grid_template_areas": null,
            "grid_template_columns": null,
            "grid_template_rows": null,
            "height": null,
            "justify_content": null,
            "justify_items": null,
            "left": null,
            "margin": null,
            "max_height": null,
            "max_width": null,
            "min_height": null,
            "min_width": null,
            "object_fit": null,
            "object_position": null,
            "order": null,
            "overflow": null,
            "overflow_x": null,
            "overflow_y": null,
            "padding": null,
            "right": null,
            "top": null,
            "visibility": null,
            "width": null
          }
        },
        "2166894c968945c09fcdc0ebfa18e9d1": {
          "model_module": "@jupyter-widgets/base",
          "model_name": "LayoutModel",
          "model_module_version": "1.2.0",
          "state": {
            "_model_module": "@jupyter-widgets/base",
            "_model_module_version": "1.2.0",
            "_model_name": "LayoutModel",
            "_view_count": null,
            "_view_module": "@jupyter-widgets/base",
            "_view_module_version": "1.2.0",
            "_view_name": "LayoutView",
            "align_content": null,
            "align_items": null,
            "align_self": null,
            "border": null,
            "bottom": null,
            "display": null,
            "flex": null,
            "flex_flow": null,
            "grid_area": null,
            "grid_auto_columns": null,
            "grid_auto_flow": null,
            "grid_auto_rows": null,
            "grid_column": null,
            "grid_gap": null,
            "grid_row": null,
            "grid_template_areas": null,
            "grid_template_columns": null,
            "grid_template_rows": null,
            "height": null,
            "justify_content": null,
            "justify_items": null,
            "left": null,
            "margin": null,
            "max_height": null,
            "max_width": null,
            "min_height": null,
            "min_width": null,
            "object_fit": null,
            "object_position": null,
            "order": null,
            "overflow": null,
            "overflow_x": null,
            "overflow_y": null,
            "padding": null,
            "right": null,
            "top": null,
            "visibility": null,
            "width": null
          }
        },
        "3e02170e29054bee831b5680390ef8b0": {
          "model_module": "@jupyter-widgets/controls",
          "model_name": "DescriptionStyleModel",
          "model_module_version": "1.5.0",
          "state": {
            "_model_module": "@jupyter-widgets/controls",
            "_model_module_version": "1.5.0",
            "_model_name": "DescriptionStyleModel",
            "_view_count": null,
            "_view_module": "@jupyter-widgets/base",
            "_view_module_version": "1.2.0",
            "_view_name": "StyleView",
            "description_width": ""
          }
        },
        "f4fe42f0f58243f7aac522b0becde26c": {
          "model_module": "@jupyter-widgets/base",
          "model_name": "LayoutModel",
          "model_module_version": "1.2.0",
          "state": {
            "_model_module": "@jupyter-widgets/base",
            "_model_module_version": "1.2.0",
            "_model_name": "LayoutModel",
            "_view_count": null,
            "_view_module": "@jupyter-widgets/base",
            "_view_module_version": "1.2.0",
            "_view_name": "LayoutView",
            "align_content": null,
            "align_items": null,
            "align_self": null,
            "border": null,
            "bottom": null,
            "display": null,
            "flex": null,
            "flex_flow": null,
            "grid_area": null,
            "grid_auto_columns": null,
            "grid_auto_flow": null,
            "grid_auto_rows": null,
            "grid_column": null,
            "grid_gap": null,
            "grid_row": null,
            "grid_template_areas": null,
            "grid_template_columns": null,
            "grid_template_rows": null,
            "height": null,
            "justify_content": null,
            "justify_items": null,
            "left": null,
            "margin": null,
            "max_height": null,
            "max_width": null,
            "min_height": null,
            "min_width": null,
            "object_fit": null,
            "object_position": null,
            "order": null,
            "overflow": null,
            "overflow_x": null,
            "overflow_y": null,
            "padding": null,
            "right": null,
            "top": null,
            "visibility": null,
            "width": null
          }
        },
        "8e4aebfe253b41a888a19143f51af880": {
          "model_module": "@jupyter-widgets/controls",
          "model_name": "ProgressStyleModel",
          "model_module_version": "1.5.0",
          "state": {
            "_model_module": "@jupyter-widgets/controls",
            "_model_module_version": "1.5.0",
            "_model_name": "ProgressStyleModel",
            "_view_count": null,
            "_view_module": "@jupyter-widgets/base",
            "_view_module_version": "1.2.0",
            "_view_name": "StyleView",
            "bar_color": null,
            "description_width": ""
          }
        },
        "cd64a5857f104f86a41fca20c85bb897": {
          "model_module": "@jupyter-widgets/base",
          "model_name": "LayoutModel",
          "model_module_version": "1.2.0",
          "state": {
            "_model_module": "@jupyter-widgets/base",
            "_model_module_version": "1.2.0",
            "_model_name": "LayoutModel",
            "_view_count": null,
            "_view_module": "@jupyter-widgets/base",
            "_view_module_version": "1.2.0",
            "_view_name": "LayoutView",
            "align_content": null,
            "align_items": null,
            "align_self": null,
            "border": null,
            "bottom": null,
            "display": null,
            "flex": null,
            "flex_flow": null,
            "grid_area": null,
            "grid_auto_columns": null,
            "grid_auto_flow": null,
            "grid_auto_rows": null,
            "grid_column": null,
            "grid_gap": null,
            "grid_row": null,
            "grid_template_areas": null,
            "grid_template_columns": null,
            "grid_template_rows": null,
            "height": null,
            "justify_content": null,
            "justify_items": null,
            "left": null,
            "margin": null,
            "max_height": null,
            "max_width": null,
            "min_height": null,
            "min_width": null,
            "object_fit": null,
            "object_position": null,
            "order": null,
            "overflow": null,
            "overflow_x": null,
            "overflow_y": null,
            "padding": null,
            "right": null,
            "top": null,
            "visibility": null,
            "width": null
          }
        },
        "62f3a24ab27e4bd685a1dad58fa47983": {
          "model_module": "@jupyter-widgets/controls",
          "model_name": "DescriptionStyleModel",
          "model_module_version": "1.5.0",
          "state": {
            "_model_module": "@jupyter-widgets/controls",
            "_model_module_version": "1.5.0",
            "_model_name": "DescriptionStyleModel",
            "_view_count": null,
            "_view_module": "@jupyter-widgets/base",
            "_view_module_version": "1.2.0",
            "_view_name": "StyleView",
            "description_width": ""
          }
        }
      }
    }
  },
  "nbformat": 4,
  "nbformat_minor": 0
}